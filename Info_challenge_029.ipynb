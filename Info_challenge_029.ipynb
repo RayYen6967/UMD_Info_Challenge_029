{
 "cells": [
  {
   "cell_type": "code",
   "execution_count": 1,
   "id": "1ae7eaea",
   "metadata": {},
   "outputs": [],
   "source": [
    "#Import required libraries\n",
    "import numpy as np\n",
    "import pandas as pd\n",
    "import matplotlib.pyplot as plt\n",
    "import seaborn as sns"
   ]
  },
  {
   "cell_type": "code",
   "execution_count": 44,
   "id": "050cc16f",
   "metadata": {},
   "outputs": [
    {
     "data": {
      "text/html": [
       "<div>\n",
       "<style scoped>\n",
       "    .dataframe tbody tr th:only-of-type {\n",
       "        vertical-align: middle;\n",
       "    }\n",
       "\n",
       "    .dataframe tbody tr th {\n",
       "        vertical-align: top;\n",
       "    }\n",
       "\n",
       "    .dataframe thead th {\n",
       "        text-align: right;\n",
       "    }\n",
       "</style>\n",
       "<table border=\"1\" class=\"dataframe\">\n",
       "  <thead>\n",
       "    <tr style=\"text-align: right;\">\n",
       "      <th></th>\n",
       "      <th>name</th>\n",
       "      <th>amount</th>\n",
       "      <th>state</th>\n",
       "      <th>address</th>\n",
       "      <th>city</th>\n",
       "      <th>zip</th>\n",
       "      <th>naics_code</th>\n",
       "      <th>business_type</th>\n",
       "      <th>jobs_retained</th>\n",
       "      <th>date_approved</th>\n",
       "      <th>...</th>\n",
       "      <th>project_county_name</th>\n",
       "      <th>project_state</th>\n",
       "      <th>project_zip</th>\n",
       "      <th>originating_lender_city</th>\n",
       "      <th>originating_lender_state</th>\n",
       "      <th>loan_status_date</th>\n",
       "      <th>originating_lender_location_id</th>\n",
       "      <th>lmi_indicator</th>\n",
       "      <th>forgiveness_amount</th>\n",
       "      <th>forgiveness_date</th>\n",
       "    </tr>\n",
       "  </thead>\n",
       "  <tbody>\n",
       "    <tr>\n",
       "      <th>0</th>\n",
       "      <td>LUMMUS CORPORATION</td>\n",
       "      <td>2000000.0</td>\n",
       "      <td>GA</td>\n",
       "      <td>225 Bourne Blvd</td>\n",
       "      <td>Savannah</td>\n",
       "      <td>31408-9586</td>\n",
       "      <td>333249.0</td>\n",
       "      <td>Corporation</td>\n",
       "      <td>294</td>\n",
       "      <td>2021-02-20</td>\n",
       "      <td>...</td>\n",
       "      <td>CHATHAM</td>\n",
       "      <td>GA</td>\n",
       "      <td>31408-9586</td>\n",
       "      <td>CHICAGO</td>\n",
       "      <td>IL</td>\n",
       "      <td>NaN</td>\n",
       "      <td>116998</td>\n",
       "      <td>N</td>\n",
       "      <td>NaN</td>\n",
       "      <td>NaN</td>\n",
       "    </tr>\n",
       "    <tr>\n",
       "      <th>1</th>\n",
       "      <td>COLIANT SOLUTIONS INC.</td>\n",
       "      <td>1294555.0</td>\n",
       "      <td>GA</td>\n",
       "      <td>2703 Brickton North Dr</td>\n",
       "      <td>Buford</td>\n",
       "      <td>30518-9101</td>\n",
       "      <td>541519.0</td>\n",
       "      <td>Corporation</td>\n",
       "      <td>63</td>\n",
       "      <td>2021-01-31</td>\n",
       "      <td>...</td>\n",
       "      <td>GWINNETT</td>\n",
       "      <td>GA</td>\n",
       "      <td>30518-9101</td>\n",
       "      <td>COLUMBUS</td>\n",
       "      <td>GA</td>\n",
       "      <td>NaN</td>\n",
       "      <td>19248</td>\n",
       "      <td>Y</td>\n",
       "      <td>NaN</td>\n",
       "      <td>NaN</td>\n",
       "    </tr>\n",
       "    <tr>\n",
       "      <th>2</th>\n",
       "      <td>YOHE PLUMBING INC</td>\n",
       "      <td>729509.0</td>\n",
       "      <td>GA</td>\n",
       "      <td>1120 Franke Court N/A</td>\n",
       "      <td>Augusta</td>\n",
       "      <td>30909</td>\n",
       "      <td>238220.0</td>\n",
       "      <td>Corporation</td>\n",
       "      <td>105</td>\n",
       "      <td>2021-03-12</td>\n",
       "      <td>...</td>\n",
       "      <td>RICHMOND</td>\n",
       "      <td>GA</td>\n",
       "      <td>30909</td>\n",
       "      <td>PHOENIXVILLE</td>\n",
       "      <td>PA</td>\n",
       "      <td>NaN</td>\n",
       "      <td>121536</td>\n",
       "      <td>N</td>\n",
       "      <td>NaN</td>\n",
       "      <td>NaN</td>\n",
       "    </tr>\n",
       "    <tr>\n",
       "      <th>3</th>\n",
       "      <td>LEWIS COLOR LITHOGRAPHERS INC</td>\n",
       "      <td>571193.4</td>\n",
       "      <td>GA</td>\n",
       "      <td>30 Joe Kennedy Blvd</td>\n",
       "      <td>Statesboro</td>\n",
       "      <td>30458-3417</td>\n",
       "      <td>323111.0</td>\n",
       "      <td>Corporation</td>\n",
       "      <td>49</td>\n",
       "      <td>2021-02-02</td>\n",
       "      <td>...</td>\n",
       "      <td>BULLOCH</td>\n",
       "      <td>GA</td>\n",
       "      <td>30458-3417</td>\n",
       "      <td>COLUMBUS</td>\n",
       "      <td>GA</td>\n",
       "      <td>NaN</td>\n",
       "      <td>19248</td>\n",
       "      <td>N</td>\n",
       "      <td>NaN</td>\n",
       "      <td>NaN</td>\n",
       "    </tr>\n",
       "    <tr>\n",
       "      <th>4</th>\n",
       "      <td>ALMA PAK INTERNATIONAL, LLC</td>\n",
       "      <td>472700.0</td>\n",
       "      <td>GA</td>\n",
       "      <td>230 PINEVIEW RD</td>\n",
       "      <td>ALMA</td>\n",
       "      <td>31510-4326</td>\n",
       "      <td>445230.0</td>\n",
       "      <td>Partnership</td>\n",
       "      <td>37</td>\n",
       "      <td>2020-04-10</td>\n",
       "      <td>...</td>\n",
       "      <td>BACON</td>\n",
       "      <td>GA</td>\n",
       "      <td>31510-4326</td>\n",
       "      <td>ALMA</td>\n",
       "      <td>GA</td>\n",
       "      <td>2021-01-08</td>\n",
       "      <td>17811</td>\n",
       "      <td>N</td>\n",
       "      <td>475877.59</td>\n",
       "      <td>2020-12-15</td>\n",
       "    </tr>\n",
       "  </tbody>\n",
       "</table>\n",
       "<p>5 rows × 41 columns</p>\n",
       "</div>"
      ],
      "text/plain": [
       "                            name     amount state                 address  \\\n",
       "0             LUMMUS CORPORATION  2000000.0    GA         225 Bourne Blvd   \n",
       "1         COLIANT SOLUTIONS INC.  1294555.0    GA  2703 Brickton North Dr   \n",
       "2              YOHE PLUMBING INC   729509.0    GA   1120 Franke Court N/A   \n",
       "3  LEWIS COLOR LITHOGRAPHERS INC   571193.4    GA     30 Joe Kennedy Blvd   \n",
       "4    ALMA PAK INTERNATIONAL, LLC   472700.0    GA         230 PINEVIEW RD   \n",
       "\n",
       "         city         zip  naics_code business_type  jobs_retained  \\\n",
       "0    Savannah  31408-9586    333249.0   Corporation            294   \n",
       "1      Buford  30518-9101    541519.0   Corporation             63   \n",
       "2     Augusta       30909    238220.0   Corporation            105   \n",
       "3  Statesboro  30458-3417    323111.0   Corporation             49   \n",
       "4        ALMA  31510-4326    445230.0   Partnership             37   \n",
       "\n",
       "  date_approved  ... project_county_name project_state  project_zip  \\\n",
       "0    2021-02-20  ...             CHATHAM            GA   31408-9586   \n",
       "1    2021-01-31  ...            GWINNETT            GA   30518-9101   \n",
       "2    2021-03-12  ...            RICHMOND            GA        30909   \n",
       "3    2021-02-02  ...             BULLOCH            GA   30458-3417   \n",
       "4    2020-04-10  ...               BACON            GA   31510-4326   \n",
       "\n",
       "   originating_lender_city originating_lender_state loan_status_date  \\\n",
       "0                  CHICAGO                       IL              NaN   \n",
       "1                 COLUMBUS                       GA              NaN   \n",
       "2             PHOENIXVILLE                       PA              NaN   \n",
       "3                 COLUMBUS                       GA              NaN   \n",
       "4                     ALMA                       GA       2021-01-08   \n",
       "\n",
       "   originating_lender_location_id  lmi_indicator  forgiveness_amount  \\\n",
       "0                          116998              N                 NaN   \n",
       "1                           19248              Y                 NaN   \n",
       "2                          121536              N                 NaN   \n",
       "3                           19248              N                 NaN   \n",
       "4                           17811              N           475877.59   \n",
       "\n",
       "   forgiveness_date  \n",
       "0               NaN  \n",
       "1               NaN  \n",
       "2               NaN  \n",
       "3               NaN  \n",
       "4        2020-12-15  \n",
       "\n",
       "[5 rows x 41 columns]"
      ]
     },
     "execution_count": 44,
     "metadata": {},
     "output_type": "execute_result"
    }
   ],
   "source": [
    "#Load approved data\n",
    "df_ap = pd.read_csv(\"ppp_applicants_ga_full.csv\")\n",
    "df_ap.head()"
   ]
  },
  {
   "cell_type": "code",
   "execution_count": 3,
   "id": "e1f33a96",
   "metadata": {},
   "outputs": [
    {
     "name": "stdout",
     "output_type": "stream",
     "text": [
      "<class 'pandas.core.frame.DataFrame'>\n",
      "RangeIndex: 553828 entries, 0 to 553827\n",
      "Data columns (total 41 columns):\n",
      " #   Column                          Non-Null Count   Dtype  \n",
      "---  ------                          --------------   -----  \n",
      " 0   name                            553827 non-null  object \n",
      " 1   amount                          553828 non-null  float64\n",
      " 2   state                           553828 non-null  object \n",
      " 3   address                         553827 non-null  object \n",
      " 4   city                            553828 non-null  object \n",
      " 5   zip                             553828 non-null  object \n",
      " 6   naics_code                      551488 non-null  float64\n",
      " 7   business_type                   553787 non-null  object \n",
      " 8   jobs_retained                   553828 non-null  int64  \n",
      " 9   date_approved                   553828 non-null  object \n",
      " 10  lender                          553828 non-null  object \n",
      " 11  congressional_district          553823 non-null  object \n",
      " 12  loan_number                     553828 non-null  int64  \n",
      " 13  sba_office_code                 553828 non-null  int64  \n",
      " 14  processing_method               553828 non-null  object \n",
      " 15  loan_status                     553828 non-null  object \n",
      " 16  term                            553828 non-null  int64  \n",
      " 17  sba_guaranty_percentage         553828 non-null  int64  \n",
      " 18  initial_approval_amount         553828 non-null  float64\n",
      " 19  current_approval_amount         553828 non-null  float64\n",
      " 20  undisbursed_amount              553713 non-null  float64\n",
      " 21  servicing_lender_location_id    553828 non-null  int64  \n",
      " 22  servicing_lender_name           553828 non-null  object \n",
      " 23  servicing_lender_address        553828 non-null  object \n",
      " 24  servicing_lender_city           553828 non-null  object \n",
      " 25  servicing_lender_state          553828 non-null  object \n",
      " 26  servicing_lender_zip            553828 non-null  object \n",
      " 27  rural_urban_indicator           553828 non-null  object \n",
      " 28  hubzone_indicator               553828 non-null  object \n",
      " 29  business_age_description        553828 non-null  object \n",
      " 30  project_city                    553828 non-null  object \n",
      " 31  project_county_name             553822 non-null  object \n",
      " 32  project_state                   553828 non-null  object \n",
      " 33  project_zip                     553828 non-null  object \n",
      " 34  originating_lender_city         553828 non-null  object \n",
      " 35  originating_lender_state        553828 non-null  object \n",
      " 36  loan_status_date                280589 non-null  object \n",
      " 37  originating_lender_location_id  553828 non-null  int64  \n",
      " 38  lmi_indicator                   553828 non-null  object \n",
      " 39  forgiveness_amount              371197 non-null  float64\n",
      " 40  forgiveness_date                371197 non-null  object \n",
      "dtypes: float64(6), int64(7), object(28)\n",
      "memory usage: 173.2+ MB\n"
     ]
    }
   ],
   "source": [
    "#Check data infomation\n",
    "df_ap.info()"
   ]
  },
  {
   "cell_type": "code",
   "execution_count": 45,
   "id": "f1b9ce4a",
   "metadata": {},
   "outputs": [
    {
     "data": {
      "text/html": [
       "<div>\n",
       "<style scoped>\n",
       "    .dataframe tbody tr th:only-of-type {\n",
       "        vertical-align: middle;\n",
       "    }\n",
       "\n",
       "    .dataframe tbody tr th {\n",
       "        vertical-align: top;\n",
       "    }\n",
       "\n",
       "    .dataframe thead th {\n",
       "        text-align: right;\n",
       "    }\n",
       "</style>\n",
       "<table border=\"1\" class=\"dataframe\">\n",
       "  <thead>\n",
       "    <tr style=\"text-align: right;\">\n",
       "      <th></th>\n",
       "      <th>name</th>\n",
       "      <th>amount</th>\n",
       "      <th>state</th>\n",
       "      <th>address</th>\n",
       "      <th>city</th>\n",
       "      <th>zip</th>\n",
       "      <th>naics_code</th>\n",
       "      <th>business_type</th>\n",
       "      <th>jobs_retained</th>\n",
       "      <th>date_approved</th>\n",
       "      <th>...</th>\n",
       "      <th>project_county_name</th>\n",
       "      <th>project_state</th>\n",
       "      <th>project_zip</th>\n",
       "      <th>originating_lender_city</th>\n",
       "      <th>originating_lender_state</th>\n",
       "      <th>loan_status_date</th>\n",
       "      <th>originating_lender_location_id</th>\n",
       "      <th>lmi_indicator</th>\n",
       "      <th>forgiveness_amount</th>\n",
       "      <th>forgiveness_date</th>\n",
       "    </tr>\n",
       "  </thead>\n",
       "  <tbody>\n",
       "    <tr>\n",
       "      <th>0</th>\n",
       "      <td>TRIPLE C CUSTOM CONCRETE LLC</td>\n",
       "      <td>43655.0</td>\n",
       "      <td>GA</td>\n",
       "      <td>106 Lisa Street  East Dublin GA</td>\n",
       "      <td>East Dublin</td>\n",
       "      <td>31027</td>\n",
       "      <td>238990</td>\n",
       "      <td>Limited  Liability Company(LLC)</td>\n",
       "      <td>7</td>\n",
       "      <td>2021-05-11</td>\n",
       "      <td>...</td>\n",
       "      <td>LAURENS</td>\n",
       "      <td>GA</td>\n",
       "      <td>31027</td>\n",
       "      <td>Saint Petersburg</td>\n",
       "      <td>FL</td>\n",
       "      <td>2021-05-11</td>\n",
       "      <td>123499</td>\n",
       "      <td>Y</td>\n",
       "      <td>NaN</td>\n",
       "      <td>NaN</td>\n",
       "    </tr>\n",
       "    <tr>\n",
       "      <th>1</th>\n",
       "      <td>DAVIS LAWN CARE SERVICES</td>\n",
       "      <td>35000.0</td>\n",
       "      <td>GA</td>\n",
       "      <td>752 Savannah Ave N/A</td>\n",
       "      <td>Waynesboro</td>\n",
       "      <td>30830-1156</td>\n",
       "      <td>112910</td>\n",
       "      <td>Partnership</td>\n",
       "      <td>2</td>\n",
       "      <td>2021-05-12</td>\n",
       "      <td>...</td>\n",
       "      <td>BURKE</td>\n",
       "      <td>GA</td>\n",
       "      <td>30830-1156</td>\n",
       "      <td>ARLINGTON</td>\n",
       "      <td>MA</td>\n",
       "      <td>2021-05-12</td>\n",
       "      <td>262380</td>\n",
       "      <td>N</td>\n",
       "      <td>NaN</td>\n",
       "      <td>NaN</td>\n",
       "    </tr>\n",
       "    <tr>\n",
       "      <th>2</th>\n",
       "      <td>LONNIE RATLIFF</td>\n",
       "      <td>28949.0</td>\n",
       "      <td>GA</td>\n",
       "      <td>55 Maple St NW Apt 802</td>\n",
       "      <td>Atlanta</td>\n",
       "      <td>30314-4760</td>\n",
       "      <td>531390</td>\n",
       "      <td>Single Member LLC</td>\n",
       "      <td>5</td>\n",
       "      <td>2021-04-16</td>\n",
       "      <td>...</td>\n",
       "      <td>FULTON</td>\n",
       "      <td>GA</td>\n",
       "      <td>30314-4760</td>\n",
       "      <td>PHOENIXVILLE</td>\n",
       "      <td>PA</td>\n",
       "      <td>2021-04-16</td>\n",
       "      <td>121536</td>\n",
       "      <td>Y</td>\n",
       "      <td>NaN</td>\n",
       "      <td>NaN</td>\n",
       "    </tr>\n",
       "    <tr>\n",
       "      <th>3</th>\n",
       "      <td>DENARD TRIMBLE</td>\n",
       "      <td>20833.0</td>\n",
       "      <td>GA</td>\n",
       "      <td>727 Chapman St</td>\n",
       "      <td>Jonesboro</td>\n",
       "      <td>30238-5681</td>\n",
       "      <td>812111</td>\n",
       "      <td>Sole Proprietorship</td>\n",
       "      <td>1</td>\n",
       "      <td>2021-05-22</td>\n",
       "      <td>...</td>\n",
       "      <td>FAYETTE</td>\n",
       "      <td>GA</td>\n",
       "      <td>30238-5681</td>\n",
       "      <td>Brea</td>\n",
       "      <td>CA</td>\n",
       "      <td>2021-05-22</td>\n",
       "      <td>514546</td>\n",
       "      <td>Y</td>\n",
       "      <td>NaN</td>\n",
       "      <td>NaN</td>\n",
       "    </tr>\n",
       "    <tr>\n",
       "      <th>4</th>\n",
       "      <td>DANA VINES</td>\n",
       "      <td>20833.0</td>\n",
       "      <td>GA</td>\n",
       "      <td>3548 Tracey Dr</td>\n",
       "      <td>Duluth</td>\n",
       "      <td>30096-3861</td>\n",
       "      <td>311999</td>\n",
       "      <td>Sole Proprietorship</td>\n",
       "      <td>1</td>\n",
       "      <td>2021-03-20</td>\n",
       "      <td>...</td>\n",
       "      <td>GWINNETT</td>\n",
       "      <td>GA</td>\n",
       "      <td>30096-3861</td>\n",
       "      <td>Miami</td>\n",
       "      <td>FL</td>\n",
       "      <td>2021-03-20</td>\n",
       "      <td>529192</td>\n",
       "      <td>N</td>\n",
       "      <td>NaN</td>\n",
       "      <td>NaN</td>\n",
       "    </tr>\n",
       "  </tbody>\n",
       "</table>\n",
       "<p>5 rows × 41 columns</p>\n",
       "</div>"
      ],
      "text/plain": [
       "                           name   amount state  \\\n",
       "0  TRIPLE C CUSTOM CONCRETE LLC  43655.0    GA   \n",
       "1      DAVIS LAWN CARE SERVICES  35000.0    GA   \n",
       "2                LONNIE RATLIFF  28949.0    GA   \n",
       "3                DENARD TRIMBLE  20833.0    GA   \n",
       "4                    DANA VINES  20833.0    GA   \n",
       "\n",
       "                           address         city         zip  naics_code  \\\n",
       "0  106 Lisa Street  East Dublin GA  East Dublin       31027      238990   \n",
       "1             752 Savannah Ave N/A   Waynesboro  30830-1156      112910   \n",
       "2           55 Maple St NW Apt 802      Atlanta  30314-4760      531390   \n",
       "3                   727 Chapman St    Jonesboro  30238-5681      812111   \n",
       "4                   3548 Tracey Dr       Duluth  30096-3861      311999   \n",
       "\n",
       "                     business_type  jobs_retained date_approved  ...  \\\n",
       "0  Limited  Liability Company(LLC)              7    2021-05-11  ...   \n",
       "1                      Partnership              2    2021-05-12  ...   \n",
       "2                Single Member LLC              5    2021-04-16  ...   \n",
       "3              Sole Proprietorship              1    2021-05-22  ...   \n",
       "4              Sole Proprietorship              1    2021-03-20  ...   \n",
       "\n",
       "  project_county_name project_state  project_zip  originating_lender_city  \\\n",
       "0             LAURENS            GA        31027         Saint Petersburg   \n",
       "1               BURKE            GA   30830-1156                ARLINGTON   \n",
       "2              FULTON            GA   30314-4760             PHOENIXVILLE   \n",
       "3             FAYETTE            GA   30238-5681                     Brea   \n",
       "4            GWINNETT            GA   30096-3861                    Miami   \n",
       "\n",
       "  originating_lender_state loan_status_date  originating_lender_location_id  \\\n",
       "0                       FL       2021-05-11                          123499   \n",
       "1                       MA       2021-05-12                          262380   \n",
       "2                       PA       2021-04-16                          121536   \n",
       "3                       CA       2021-05-22                          514546   \n",
       "4                       FL       2021-03-20                          529192   \n",
       "\n",
       "   lmi_indicator  forgiveness_amount  forgiveness_date  \n",
       "0              Y                 NaN               NaN  \n",
       "1              N                 NaN               NaN  \n",
       "2              Y                 NaN               NaN  \n",
       "3              Y                 NaN               NaN  \n",
       "4              N                 NaN               NaN  \n",
       "\n",
       "[5 rows x 41 columns]"
      ]
     },
     "execution_count": 45,
     "metadata": {},
     "output_type": "execute_result"
    }
   ],
   "source": [
    "#Load removed data\n",
    "df_rm = pd.read_excel(\"ppp-removed-ga.xlsx\")\n",
    "df_rm.head()"
   ]
  },
  {
   "cell_type": "code",
   "execution_count": 5,
   "id": "f3351276",
   "metadata": {},
   "outputs": [
    {
     "name": "stdout",
     "output_type": "stream",
     "text": [
      "<class 'pandas.core.frame.DataFrame'>\n",
      "RangeIndex: 25836 entries, 0 to 25835\n",
      "Data columns (total 41 columns):\n",
      " #   Column                          Non-Null Count  Dtype         \n",
      "---  ------                          --------------  -----         \n",
      " 0   name                            25836 non-null  object        \n",
      " 1   amount                          25836 non-null  float64       \n",
      " 2   state                           25836 non-null  object        \n",
      " 3   address                         25836 non-null  object        \n",
      " 4   city                            25836 non-null  object        \n",
      " 5   zip                             25836 non-null  object        \n",
      " 6   naics_code                      25836 non-null  int64         \n",
      " 7   business_type                   25836 non-null  object        \n",
      " 8   jobs_retained                   25836 non-null  int64         \n",
      " 9   date_approved                   25836 non-null  datetime64[ns]\n",
      " 10  lender                          25836 non-null  object        \n",
      " 11  congressional_district          25836 non-null  object        \n",
      " 12  loan_number                     25836 non-null  int64         \n",
      " 13  sba_office_code                 25836 non-null  int64         \n",
      " 14  processing_method               25836 non-null  object        \n",
      " 15  loan_status                     25836 non-null  object        \n",
      " 16  term                            25836 non-null  int64         \n",
      " 17  sba_guaranty_percentage         25836 non-null  int64         \n",
      " 18  initial_approval_amount         25836 non-null  float64       \n",
      " 19  current_approval_amount         25836 non-null  float64       \n",
      " 20  undisbursed_amount              25835 non-null  float64       \n",
      " 21  servicing_lender_location_id    25836 non-null  int64         \n",
      " 22  servicing_lender_name           25836 non-null  object        \n",
      " 23  servicing_lender_address        25836 non-null  object        \n",
      " 24  servicing_lender_city           25836 non-null  object        \n",
      " 25  servicing_lender_state          25836 non-null  object        \n",
      " 26  servicing_lender_zip            25836 non-null  object        \n",
      " 27  rural_urban_indicator           25836 non-null  object        \n",
      " 28  hubzone_indicator               25836 non-null  object        \n",
      " 29  business_age_description        25836 non-null  object        \n",
      " 30  project_city                    25836 non-null  object        \n",
      " 31  project_county_name             25836 non-null  object        \n",
      " 32  project_state                   25836 non-null  object        \n",
      " 33  project_zip                     25836 non-null  object        \n",
      " 34  originating_lender_city         25836 non-null  object        \n",
      " 35  originating_lender_state        25836 non-null  object        \n",
      " 36  loan_status_date                23331 non-null  datetime64[ns]\n",
      " 37  originating_lender_location_id  25836 non-null  int64         \n",
      " 38  lmi_indicator                   25836 non-null  object        \n",
      " 39  forgiveness_amount              0 non-null      float64       \n",
      " 40  forgiveness_date                0 non-null      float64       \n",
      "dtypes: datetime64[ns](2), float64(6), int64(8), object(25)\n",
      "memory usage: 8.1+ MB\n"
     ]
    }
   ],
   "source": [
    "#Check data infomation\n",
    "df_rm.info()"
   ]
  },
  {
   "cell_type": "code",
   "execution_count": 6,
   "id": "465c9118",
   "metadata": {},
   "outputs": [
    {
     "name": "stdout",
     "output_type": "stream",
     "text": [
      "name 444162\n",
      "amount 106476\n",
      "state 1\n",
      "address 429791\n",
      "city 2762\n",
      "zip 229592\n",
      "naics_code 1086\n",
      "business_type 23\n",
      "jobs_retained 462\n",
      "date_approved 237\n",
      "lender 1194\n",
      "congressional_district 38\n",
      "loan_number 553828\n",
      "sba_office_code 19\n",
      "processing_method 2\n",
      "loan_status 3\n",
      "term 21\n",
      "sba_guaranty_percentage 1\n",
      "initial_approval_amount 105931\n",
      "current_approval_amount 106476\n",
      "undisbursed_amount 110\n",
      "servicing_lender_location_id 1243\n",
      "servicing_lender_name 1184\n",
      "servicing_lender_address 1232\n",
      "servicing_lender_city 857\n",
      "servicing_lender_state 53\n",
      "servicing_lender_zip 1239\n",
      "rural_urban_indicator 2\n",
      "hubzone_indicator 2\n",
      "business_age_description 5\n",
      "project_city 2777\n",
      "project_county_name 171\n",
      "project_state 10\n",
      "project_zip 229694\n",
      "originating_lender_city 861\n",
      "originating_lender_state 53\n",
      "loan_status_date 355\n",
      "originating_lender_location_id 1254\n",
      "lmi_indicator 2\n",
      "forgiveness_amount 269653\n",
      "forgiveness_date 270\n"
     ]
    }
   ],
   "source": [
    "#How many distinct values for each feature in approved data\n",
    "for col in df_ap.columns:\n",
    "    print(col, df_ap[col].nunique())"
   ]
  },
  {
   "cell_type": "code",
   "execution_count": 7,
   "id": "8155d1f5",
   "metadata": {},
   "outputs": [
    {
     "name": "stdout",
     "output_type": "stream",
     "text": [
      "name 25272\n",
      "amount 6319\n",
      "state 1\n",
      "address 24743\n",
      "city 670\n",
      "zip 22287\n",
      "naics_code 699\n",
      "business_type 17\n",
      "jobs_retained 48\n",
      "date_approved 165\n",
      "lender 89\n",
      "congressional_district 14\n",
      "loan_number 25836\n",
      "sba_office_code 1\n",
      "processing_method 2\n",
      "loan_status 2\n",
      "term 2\n",
      "sba_guaranty_percentage 1\n",
      "initial_approval_amount 6303\n",
      "current_approval_amount 6319\n",
      "undisbursed_amount 6023\n",
      "servicing_lender_location_id 89\n",
      "servicing_lender_name 89\n",
      "servicing_lender_address 89\n",
      "servicing_lender_city 80\n",
      "servicing_lender_state 24\n",
      "servicing_lender_zip 88\n",
      "rural_urban_indicator 2\n",
      "hubzone_indicator 2\n",
      "business_age_description 3\n",
      "project_city 670\n",
      "project_county_name 159\n",
      "project_state 1\n",
      "project_zip 22337\n",
      "originating_lender_city 80\n",
      "originating_lender_state 24\n",
      "loan_status_date 163\n",
      "originating_lender_location_id 89\n",
      "lmi_indicator 2\n",
      "forgiveness_amount 0\n",
      "forgiveness_date 0\n"
     ]
    }
   ],
   "source": [
    "#How many distinct values for each feature in removed data\n",
    "for col in df_rm.columns:\n",
    "    print(col, df_rm[col].nunique())"
   ]
  },
  {
   "cell_type": "markdown",
   "id": "d0aff1c7",
   "metadata": {},
   "source": [
    "Data Cleansing"
   ]
  },
  {
   "cell_type": "code",
   "execution_count": 46,
   "id": "6670dd32",
   "metadata": {},
   "outputs": [],
   "source": [
    "#Features to remove from analysis\n",
    "col_drop = [\"name\", \"state\", \"address\", \"zip\", \"loan_number\", \"sba_guaranty_percentage\", \"project_zip\",\n",
    "            \"servicing_lender_address\", \"servicing_lender_zip\", \"loan_status\", \"undisbursed_amount\",\n",
    "           \"loan_status_date\", \"forgiveness_amount\", \"forgiveness_date\", \"servicing_lender_city\", \"originating_lender_city\",\n",
    "           \"city\", \"project_city\"]\n",
    "df_ap.drop(col_drop, axis=1, inplace=True)\n",
    "df_rm.drop(col_drop, axis=1, inplace=True)"
   ]
  },
  {
   "cell_type": "code",
   "execution_count": 47,
   "id": "d251be44",
   "metadata": {},
   "outputs": [],
   "source": [
    "#Imputation for missing values\n",
    "df_ap.naics_code.fillna(0, inplace=True)\n",
    "df_ap.business_type.fillna(\"No\", inplace=True)\n",
    "df_ap.congressional_district.fillna(\"No\", inplace=True)\n",
    "df_ap.project_county_name.fillna(\"No\", inplace=True)"
   ]
  },
  {
   "cell_type": "code",
   "execution_count": 48,
   "id": "8ce9ea8e",
   "metadata": {},
   "outputs": [],
   "source": [
    "#Imputation for 2 rows that job retained is 0\n",
    "df_ap[df_ap.jobs_retained==0][\"jobs_retained\"]\n",
    "df_ap.loc[55332, \"jobs_retained\"] = 1\n",
    "df_ap.loc[518543, \"jobs_retained\"] = 1"
   ]
  },
  {
   "cell_type": "code",
   "execution_count": 49,
   "id": "4757565f",
   "metadata": {},
   "outputs": [],
   "source": [
    "#Put unique indicator for each dataset\n",
    "df_ap[\"is_removed\"] = 0\n",
    "df_rm[\"is_removed\"] = 1\n",
    "#Convert naics_code & date to correct data type\n",
    "df_ap.naics_code = df_ap.naics_code.astype(int, copy=False)\n",
    "df_rm.date_approved = df_rm.date_approved.astype(str, copy=False)\n",
    "#Combined two datasets\n",
    "df = pd.concat([df_ap, df_rm])"
   ]
  },
  {
   "cell_type": "markdown",
   "id": "2f4e5163",
   "metadata": {},
   "source": [
    "Feature Engineering"
   ]
  },
  {
   "cell_type": "code",
   "execution_count": 12,
   "id": "fe698544",
   "metadata": {},
   "outputs": [],
   "source": [
    "#Date imputer\n",
    "def date_imputer(date):\n",
    "    if \"2020-04-01\" <= date < \"2020-05-01\":\n",
    "        return \"2020-04\"\n",
    "    elif \"2020-05-01\" <= date < \"2020-06-01\":\n",
    "        return \"2020-05\"\n",
    "    elif \"2020-06-01\" <= date < \"2020-07-01\":\n",
    "        return \"2020-06\"\n",
    "    elif \"2020-07-01\" <= date < \"2020-08-01\":\n",
    "        return \"2020-07\"\n",
    "    elif \"2020-08-01\" <= date < \"2020-09-01\":\n",
    "        return \"2020-08\"\n",
    "    elif \"2020-09-01\" <= date < \"2020-10-01\":\n",
    "        return \"2020-09\"\n",
    "    elif \"2020-10-01\" <= date < \"2020-11-01\":\n",
    "        return \"2020-10\"\n",
    "    elif \"2020-11-01\" <= date < \"2020-12-01\":\n",
    "        return \"2020-11\"\n",
    "    elif \"2020-12-01\" <= date < \"2021-01-01\":\n",
    "        return \"2020-12\"\n",
    "    elif \"2021-01-01\" <= date < \"2021-02-01\":\n",
    "        return \"2021-01\"\n",
    "    elif \"2021-02-01\" <= date < \"2021-03-01\":\n",
    "        return \"2021-02\"\n",
    "    elif \"2021-03-01\" <= date < \"2021-04-01\":\n",
    "        return \"2021-03\"\n",
    "    elif \"2021-04-01\" <= date < \"2021-05-01\":\n",
    "        return \"2021-04\"\n",
    "    elif \"2021-05-01\" <= date < \"2021-06-01\":\n",
    "        return \"2021-05\"\n",
    "    elif \"2021-06-01\" <= date < \"2021-07-01\":\n",
    "        return \"2021-06\""
   ]
  },
  {
   "cell_type": "code",
   "execution_count": 13,
   "id": "1cac8058",
   "metadata": {},
   "outputs": [],
   "source": [
    "#Naics_code imputer\n",
    "def code_imputer(code):\n",
    "    if code == \"11\":\n",
    "        return \"Agriculture, forestry, fishing and hunting\"\n",
    "    elif code == \"21\":\n",
    "        return \"Mining, quarrying, and oil and gas extraction\"\n",
    "    elif code == \"22\":\n",
    "        return \"Utilities\"\n",
    "    elif code == \"23\":\n",
    "        return \"Construction\"\n",
    "    elif code == \"31\" or code == \"33\" or code == \"32\":\n",
    "        return \"Manufacturing\"\n",
    "    elif code == \"42\":\n",
    "        return \"Wholesale trade\"\n",
    "    elif code == \"44\" or code == \"45\":\n",
    "        return \"Retail trade\"\n",
    "    elif code == \"48\" or code == \"49\":\n",
    "        return \"Transportation and warehousing\"\n",
    "    elif code == \"51\":\n",
    "        return \"Information\"\n",
    "    elif code == \"52\":\n",
    "        return \"Finance and insurance\"\n",
    "    elif code == \"53\":\n",
    "        return \"Real estate and rental and leasing\"\n",
    "    elif code == \"54\":\n",
    "        return \"Professional, scientific, and technical\"\n",
    "    elif code == \"55\":\n",
    "        return \"Management of companies and enterprises\"\n",
    "    elif code == \"56\":\n",
    "        return \"Administrative and support and waste\"\n",
    "    elif code == \"61\":\n",
    "        return \"Educational services\"\n",
    "    elif code == \"62\":\n",
    "        return \"Health care and social assistance\"\n",
    "    elif code == \"71\":\n",
    "        return \"Arts, entertainment, and recreation\"\n",
    "    elif code == \"72\":\n",
    "        return \"Accommodation and food services\"\n",
    "    elif code == \"81\":\n",
    "        return \"Other services (except public administration)\"\n",
    "    elif code == \"99\":\n",
    "        return \"Industries not classified\"\n",
    "    elif code == \"92\":\n",
    "        return \"Public Administration\"\n",
    "    else:\n",
    "        return \"No naics code\""
   ]
  },
  {
   "cell_type": "code",
   "execution_count": 14,
   "id": "dfb23837",
   "metadata": {},
   "outputs": [],
   "source": [
    "#Convert naics code to industry\n",
    "df.naics_code = df.naics_code.astype(str, copy=False)\n",
    "df.naics_code = df.naics_code.apply(lambda code:code[:2])\n",
    "df[\"industry\"] = df.naics_code.apply(code_imputer)\n",
    "df.drop(\"naics_code\", axis=1, inplace=True)\n",
    "#Convert two locations to an indicator which indicates different or not  \n",
    "df[\"lender_loc_consistency\"] = (df.servicing_lender_location_id == df.originating_lender_location_id)\n",
    "df.lender_loc_consistency = df.lender_loc_consistency.astype(str, copy=False)\n",
    "df.drop([\"servicing_lender_location_id\", \"originating_lender_location_id\"], axis=1, inplace=True)\n",
    "#Convert date to year-month format\n",
    "df.date_approved = df.date_approved.apply(date_imputer)\n",
    "#Convert sba_code & term to appropriate format\n",
    "df.sba_office_code = df.sba_office_code.astype(str, copy=False)\n",
    "df.term = df.term.astype(str, copy=False)\n",
    "#Add three indicators comparing amount, lender name, lender state\n",
    "df[\"lender_state_consistency\"] = (df.servicing_lender_state == df.originating_lender_state)\n",
    "df.lender_state_consistency = df.lender_state_consistency.astype(str, copy=False)\n",
    "df[\"lender_name_consistency\"] = (df.servicing_lender_name == df.lender)\n",
    "df.lender_name_consistency = df.lender_name_consistency.astype(str, copy=False)\n",
    "df[\"amount_consistency\"] = (df.initial_approval_amount == df.current_approval_amount)\n",
    "df.amount_consistency = df.amount_consistency.astype(str, copy=False)"
   ]
  },
  {
   "cell_type": "code",
   "execution_count": 15,
   "id": "a51dc365",
   "metadata": {},
   "outputs": [],
   "source": [
    "#Add additional salary data for analysis\n",
    "df_salary = pd.read_excel(\"GA_salary.xlsx\", sheet_name=1)"
   ]
  },
  {
   "cell_type": "code",
   "execution_count": 16,
   "id": "06b033ce",
   "metadata": {},
   "outputs": [],
   "source": [
    "#Join two datasets\n",
    "df = pd.merge(left=df, right=df_salary, left_on=(\"congressional_district\", \"industry\"),\n",
    "                    right_on=(\"116 Congressional District\", \"Industry\"), how=\"left\")\n",
    "df.drop([\"116 Congressional District\", \"Industry\"], axis=1, inplace=True)"
   ]
  },
  {
   "cell_type": "code",
   "execution_count": 17,
   "id": "d6d9c159",
   "metadata": {},
   "outputs": [],
   "source": [
    "#Add new feature average amount, indicating average amount applied for per job retained\n",
    "df[\"average_amount\"] = df.amount/df.jobs_retained"
   ]
  },
  {
   "cell_type": "code",
   "execution_count": 18,
   "id": "42ea0494",
   "metadata": {},
   "outputs": [],
   "source": [
    "#Add new feature higher than average, indicating wheather the average amount is greater than industry average\n",
    "df[\"higher_than_average\"] = (df.average_amount > df.average_salary)\n",
    "df.higher_than_average = df.higher_than_average.astype(str, copy=False)"
   ]
  },
  {
   "cell_type": "markdown",
   "id": "54a7ef18",
   "metadata": {},
   "source": [
    "Exploratory Data Analysis"
   ]
  },
  {
   "cell_type": "code",
   "execution_count": 19,
   "id": "3bd96ca1",
   "metadata": {},
   "outputs": [],
   "source": [
    "#Get categorical & numerical column names\n",
    "s = (df.dtypes == \"object\")\n",
    "cat_cols = list(s[s].index)\n",
    "num_cols = list(df.drop(cat_cols, axis=1).drop(\"is_removed\", axis=1).columns)"
   ]
  },
  {
   "cell_type": "code",
   "execution_count": 20,
   "id": "4c7a4887",
   "metadata": {},
   "outputs": [
    {
     "data": {
      "image/png": "[encoded data removed]",
      "text/plain": [
       "<Figure size 432x288 with 1 Axes>"
      ]
     },
     "metadata": {
      "needs_background": "light"
     },
     "output_type": "display_data"
    },
    {
     "data": {
      "image/png": "[encoded data removed]",
      "text/plain": [
       "<Figure size 432x288 with 1 Axes>"
      ]
     },
     "metadata": {
      "needs_background": "light"
     },
     "output_type": "display_data"
    },
    {
     "data": {
      "image/png": "[encoded data removed]",
      "text/plain": [
       "<Figure size 432x288 with 1 Axes>"
      ]
     },
     "metadata": {
      "needs_background": "light"
     },
     "output_type": "display_data"
    },
    {
     "data": {
      "image/png": "[encoded data removed]",
      "text/plain": [
       "<Figure size 432x288 with 1 Axes>"
      ]
     },
     "metadata": {
      "needs_background": "light"
     },
     "output_type": "display_data"
    },
    {
     "data": {
      "image/png": "[encoded data removed]",
      "text/plain": [
       "<Figure size 432x288 with 1 Axes>"
      ]
     },
     "metadata": {
      "needs_background": "light"
     },
     "output_type": "display_data"
    },
    {
     "data": {
      "image/png": "[encoded data removed]",
      "text/plain": [
       "<Figure size 432x288 with 1 Axes>"
      ]
     },
     "metadata": {
      "needs_background": "light"
     },
     "output_type": "display_data"
    },
    {
     "data": {
      "image/png": "[encoded data removed]",
      "text/plain": [
       "<Figure size 432x288 with 1 Axes>"
      ]
     },
     "metadata": {
      "needs_background": "light"
     },
     "output_type": "display_data"
    },
    {
     "data": {
      "image/png": "[encoded data removed]",
      "text/plain": [
       "<Figure size 432x288 with 1 Axes>"
      ]
     },
     "metadata": {
      "needs_background": "light"
     },
     "output_type": "display_data"
    },
    {
     "data": {
      "image/png": "[encoded data removed]",
      "text/plain": [
       "<Figure size 432x288 with 1 Axes>"
      ]
     },
     "metadata": {
      "needs_background": "light"
     },
     "output_type": "display_data"
    },
    {
     "data": {
      "image/png": "[encoded data removed]",
      "text/plain": [
       "<Figure size 432x288 with 1 Axes>"
      ]
     },
     "metadata": {
      "needs_background": "light"
     },
     "output_type": "display_data"
    },
    {
     "data": {
      "image/png": "[encoded data removed]",
      "text/plain": [
       "<Figure size 432x288 with 1 Axes>"
      ]
     },
     "metadata": {
      "needs_background": "light"
     },
     "output_type": "display_data"
    },
    {
     "data": {
      "image/png": "[encoded data removed]",
      "text/plain": [
       "<Figure size 432x288 with 1 Axes>"
      ]
     },
     "metadata": {
      "needs_background": "light"
     },
     "output_type": "display_data"
    },
    {
     "data": {
      "image/png": "[encoded data removed]",
      "text/plain": [
       "<Figure size 432x288 with 1 Axes>"
      ]
     },
     "metadata": {
      "needs_background": "light"
     },
     "output_type": "display_data"
    },
    {
     "data": {
      "image/png": "[encoded data removed]",
      "text/plain": [
       "<Figure size 432x288 with 1 Axes>"
      ]
     },
     "metadata": {
      "needs_background": "light"
     },
     "output_type": "display_data"
    },
    {
     "data": {
      "image/png": "[encoded data removed]",
      "text/plain": [
       "<Figure size 432x288 with 1 Axes>"
      ]
     },
     "metadata": {
      "needs_background": "light"
     },
     "output_type": "display_data"
    },
    {
     "data": {
      "image/png": "[encoded data removed]",
      "text/plain": [
       "<Figure size 432x288 with 1 Axes>"
      ]
     },
     "metadata": {
      "needs_background": "light"
     },
     "output_type": "display_data"
    },
    {
     "data": {
      "image/png": "[encoded data removed]",
      "text/plain": [
       "<Figure size 432x288 with 1 Axes>"
      ]
     },
     "metadata": {
      "needs_background": "light"
     },
     "output_type": "display_data"
    },
    {
     "data": {
      "image/png": "[encoded data removed]",
      "text/plain": [
       "<Figure size 432x288 with 1 Axes>"
      ]
     },
     "metadata": {
      "needs_background": "light"
     },
     "output_type": "display_data"
    },
    {
     "data": {
      "image/png": "[encoded data removed]",
      "text/plain": [
       "<Figure size 432x288 with 1 Axes>"
      ]
     },
     "metadata": {
      "needs_background": "light"
     },
     "output_type": "display_data"
    },
    {
     "data": {
      "image/png": "[encoded data removed]",
      "text/plain": [
       "<Figure size 432x288 with 1 Axes>"
      ]
     },
     "metadata": {
      "needs_background": "light"
     },
     "output_type": "display_data"
    },
    {
     "data": {
      "image/png": "[encoded data removed]",
      "text/plain": [
       "<Figure size 432x288 with 1 Axes>"
      ]
     },
     "metadata": {
      "needs_background": "light"
     },
     "output_type": "display_data"
    },
    {
     "data": {
      "image/png": "[encoded data removed]",
      "text/plain": [
       "<Figure size 432x288 with 1 Axes>"
      ]
     },
     "metadata": {
      "needs_background": "light"
     },
     "output_type": "display_data"
    }
   ],
   "source": [
    "#Check if each categorical feature is relevant to the removal of application\n",
    "for f in cat_cols:\n",
    "    value = df.groupby(f).mean()[\"is_removed\"].sort_values(ascending=False)\n",
    "    index = value.index\n",
    "    plt.bar(index, value)\n",
    "    plt.title(\"%s\" % f)\n",
    "    plt.xticks([])\n",
    "    plt.show()"
   ]
  },
  {
   "cell_type": "code",
   "execution_count": 21,
   "id": "51a8c2ad",
   "metadata": {},
   "outputs": [
    {
     "data": {
      "image/png": "[encoded data removed]",
      "text/plain": [
       "<Figure size 432x288 with 1 Axes>"
      ]
     },
     "metadata": {
      "needs_background": "light"
     },
     "output_type": "display_data"
    },
    {
     "data": {
      "image/png": "[encoded data removed]",
      "text/plain": [
       "<Figure size 432x288 with 1 Axes>"
      ]
     },
     "metadata": {
      "needs_background": "light"
     },
     "output_type": "display_data"
    },
    {
     "data": {
      "image/png": "[encoded data removed]",
      "text/plain": [
       "<Figure size 432x288 with 1 Axes>"
      ]
     },
     "metadata": {
      "needs_background": "light"
     },
     "output_type": "display_data"
    },
    {
     "data": {
      "image/png": "[encoded data removed]",
      "text/plain": [
       "<Figure size 432x288 with 1 Axes>"
      ]
     },
     "metadata": {
      "needs_background": "light"
     },
     "output_type": "display_data"
    },
    {
     "data": {
      "image/png": "[encoded data removed]",
      "text/plain": [
       "<Figure size 432x288 with 1 Axes>"
      ]
     },
     "metadata": {
      "needs_background": "light"
     },
     "output_type": "display_data"
    },
    {
     "data": {
      "image/png": "[encoded data removed]",
      "text/plain": [
       "<Figure size 432x288 with 1 Axes>"
      ]
     },
     "metadata": {
      "needs_background": "light"
     },
     "output_type": "display_data"
    }
   ],
   "source": [
    "#Check if each numerical feature is relevant to the removal of application\n",
    "df.is_removed = df.is_removed.astype(str, copy=False)\n",
    "for f in num_cols:\n",
    "    value = df.groupby(\"is_removed\").mean()[f].sort_values(ascending=False)\n",
    "    index = value.index\n",
    "    plt.bar(index, value)\n",
    "    plt.title(\"%s\" % f)\n",
    "    plt.show()"
   ]
  },
  {
   "cell_type": "markdown",
   "id": "cb0aad27",
   "metadata": {},
   "source": [
    "Explanatory Data Analysis (Using Tableau)"
   ]
  },
  {
   "cell_type": "code",
   "execution_count": 22,
   "id": "fb1a08f7",
   "metadata": {},
   "outputs": [],
   "source": [
    "#Save cleaned data for Taleau use\n",
    "#df.to_csv(\"ppp_cleaned.csv\", index=False)"
   ]
  },
  {
   "cell_type": "markdown",
   "id": "8db8952a",
   "metadata": {},
   "source": [
    "Prepare data for predictive model"
   ]
  },
  {
   "cell_type": "code",
   "execution_count": 23,
   "id": "40836e42",
   "metadata": {},
   "outputs": [
    {
     "name": "stdout",
     "output_type": "stream",
     "text": [
      "amount 106992 float64\n",
      "business_type 24 object\n",
      "jobs_retained 462 int64\n",
      "date_approved 11 object\n",
      "lender 1196 object\n",
      "congressional_district 39 object\n",
      "sba_office_code 19 object\n",
      "processing_method 2 object\n",
      "term 21 object\n",
      "initial_approval_amount 106434 float64\n",
      "current_approval_amount 106992 float64\n",
      "servicing_lender_name 1186 object\n",
      "servicing_lender_state 53 object\n",
      "rural_urban_indicator 2 object\n",
      "hubzone_indicator 2 object\n",
      "business_age_description 5 object\n",
      "project_county_name 172 object\n",
      "project_state 10 object\n",
      "originating_lender_state 53 object\n",
      "lmi_indicator 2 object\n",
      "is_removed 2 object\n",
      "industry 22 object\n",
      "lender_loc_consistency 2 object\n",
      "lender_state_consistency 2 object\n",
      "lender_name_consistency 2 object\n",
      "amount_consistency 2 object\n",
      "average_salary 279 float64\n",
      "average_amount 125445 float64\n",
      "higher_than_average 2 object\n"
     ]
    }
   ],
   "source": [
    "#Check feature infomation\n",
    "for col in df.columns:\n",
    "    print(col, df[col].nunique(), df[col].dtypes)"
   ]
  },
  {
   "cell_type": "code",
   "execution_count": 24,
   "id": "e62dc9c3",
   "metadata": {},
   "outputs": [],
   "source": [
    "#Prepare data for predictive model\n",
    "#Drop features that are not available when application happens\n",
    "#df.drop(\"date_approved\", axis=1, inplace=True)\n",
    "df.drop(\"lender\", axis=1, inplace=True)\n",
    "df.drop(\"servicing_lender_name\", axis=1, inplace=True)\n",
    "df.drop(\"servicing_lender_state\", axis=1, inplace=True)\n",
    "df.drop(\"current_approval_amount\", axis=1, inplace=True)\n",
    "df.drop(\"originating_lender_state\", axis=1, inplace=True)\n",
    "#df.drop(\"lender_loc_consistency\", axis=1, inplace=True)\n",
    "#df.drop(\"lender_state_consistency\", axis=1, inplace=True)\n",
    "#df.drop(\"lender_name_consistency\", axis=1, inplace=True)\n",
    "#df.drop(\"amount_consistency\", axis=1, inplace=True)\n",
    "df.drop(\"sba_office_code\", axis=1, inplace=True)\n",
    "#df.drop(\"processing_method\", axis=1, inplace=True)\n",
    "#df.drop(\"term\", axis=1, inplace=True)\n",
    "df.drop(\"initial_approval_amount\", axis=1, inplace=True)\n",
    "#Drop features can be represent by other features\n",
    "#df.drop(\"project_county_name\", axis=1, inplace=True)\n",
    "df.drop(\"project_state\", axis=1, inplace=True)"
   ]
  },
  {
   "cell_type": "code",
   "execution_count": 25,
   "id": "325443ca",
   "metadata": {},
   "outputs": [],
   "source": [
    "#Remove non-goergia congressional district & No\n",
    "galist = ['GA-01', 'GA-07', 'GA-12', 'GA-05', 'GA-06', 'GA-02', 'GA-14',\n",
    "          'GA-09', 'GA-11', 'GA-08', 'GA-13', 'GA-03', 'GA-04', 'GA-10']\n",
    "def remove(cd):\n",
    "    if cd not in galist:\n",
    "        return \"No\"\n",
    "    else:\n",
    "        return cd\n",
    "df[\"congressional_district\"] = df[\"congressional_district\"].apply(remove)\n",
    "df.drop(df[df['congressional_district'] == \"No\"].index, inplace = True)"
   ]
  },
  {
   "cell_type": "code",
   "execution_count": 26,
   "id": "a3dfac0a",
   "metadata": {},
   "outputs": [],
   "source": [
    "#Remove some rows that do not have average salary \n",
    "#Because from our analysis average salary vs average amount is a key indicator\n",
    "df.drop(df[df.average_salary.isna()].index, inplace=True)\n",
    "#Create feature representing amount vs salary difference\n",
    "df[\"salary_difference\"] = df[\"average_amount\"]-df[\"average_salary\"]\n",
    "df.drop(\"average_amount\", axis=1, inplace=True)\n",
    "df.drop(\"average_salary\", axis=1, inplace=True)\n",
    "df.drop(\"higher_than_average\", axis=1, inplace=True)"
   ]
  },
  {
   "cell_type": "code",
   "execution_count": 27,
   "id": "cd91dd92",
   "metadata": {},
   "outputs": [],
   "source": [
    "#Replace appropriate name for business type \n",
    "df.business_type.unique()\n",
    "def b_imputer(t):\n",
    "    if t == \"501(c)6 – Non Profit Membership\":\n",
    "        return \"Non Profit Membership 501c6\"\n",
    "    elif t == \"501(c)3 – Non Profit\":\n",
    "        return \"Non Profit 501c3\"\n",
    "    elif t == \"501(c)19 – Non Profit Veterans\":\n",
    "        return \"Non Profit Veterans 501c19\"\n",
    "    else:\n",
    "        return t\n",
    "df[\"business_type\"] = df[\"business_type\"].apply(b_imputer)"
   ]
  },
  {
   "cell_type": "code",
   "execution_count": 28,
   "id": "7e2eb814",
   "metadata": {},
   "outputs": [],
   "source": [
    "#Convert is_removed to appropriate data type\n",
    "df[\"is_removed\"] = df.is_removed.astype(int, copy=False)"
   ]
  },
  {
   "cell_type": "code",
   "execution_count": 29,
   "id": "a4390964",
   "metadata": {},
   "outputs": [
    {
     "data": {
      "text/plain": [
       "0    549808\n",
       "1     25751\n",
       "Name: is_removed, dtype: int64"
      ]
     },
     "execution_count": 29,
     "metadata": {},
     "output_type": "execute_result"
    }
   ],
   "source": [
    "#How many data for each class\n",
    "df.is_removed.value_counts()"
   ]
  },
  {
   "cell_type": "code",
   "execution_count": 30,
   "id": "d4724282",
   "metadata": {},
   "outputs": [
    {
     "data": {
      "text/plain": [
       "2020-04     85065\n",
       "2020-05     45865\n",
       "2020-06     18216\n",
       "2020-07     10878\n",
       "2020-08      5303\n",
       "2021-01     19682\n",
       "2021-02     47215\n",
       "2021-03     76609\n",
       "2021-04    158022\n",
       "2021-05    108467\n",
       "2021-06       237\n",
       "Name: date_approved, dtype: int64"
      ]
     },
     "execution_count": 30,
     "metadata": {},
     "output_type": "execute_result"
    }
   ],
   "source": [
    "#Date approved\n",
    "df.date_approved.value_counts().sort_index()"
   ]
  },
  {
   "cell_type": "code",
   "execution_count": 31,
   "id": "87a19e12",
   "metadata": {},
   "outputs": [],
   "source": [
    "def date_imputer2(d):\n",
    "    if d == \"2020-04\":\n",
    "        return 1\n",
    "    elif d == \"2020-05\":\n",
    "        return 2\n",
    "    elif d == \"2020-06\":\n",
    "        return 3\n",
    "    elif d == \"2020-07\":\n",
    "        return 4\n",
    "    elif d == \"2020-08\":\n",
    "        return 5\n",
    "    elif d == \"2021-01\":\n",
    "        return 6\n",
    "    elif d == \"2021-02\":\n",
    "        return 7\n",
    "    elif d == \"2021-03\":\n",
    "        return 8\n",
    "    elif d == \"2021-04\":\n",
    "        return 9\n",
    "    elif d == \"2021-05\":\n",
    "        return 10\n",
    "    elif d == \"2021-06\":\n",
    "        return 11"
   ]
  },
  {
   "cell_type": "code",
   "execution_count": 32,
   "id": "34542a74",
   "metadata": {},
   "outputs": [],
   "source": [
    "#Convert date approved\n",
    "df[\"date_approved\"] = df.date_approved.apply(date_imputer2)"
   ]
  },
  {
   "cell_type": "code",
   "execution_count": 33,
   "id": "56a08d50",
   "metadata": {},
   "outputs": [
    {
     "data": {
      "text/plain": [
       "60    439881\n",
       "24    133697\n",
       "59      1766\n",
       "6         81\n",
       "23        36\n",
       "5         28\n",
       "8         16\n",
       "7         16\n",
       "9         12\n",
       "44         7\n",
       "45         6\n",
       "55         3\n",
       "53         2\n",
       "58         2\n",
       "47         1\n",
       "48         1\n",
       "43         1\n",
       "57         1\n",
       "22         1\n",
       "52         1\n",
       "Name: term, dtype: int64"
      ]
     },
     "execution_count": 33,
     "metadata": {},
     "output_type": "execute_result"
    }
   ],
   "source": [
    "#Term\n",
    "df.term.value_counts()"
   ]
  },
  {
   "cell_type": "code",
   "execution_count": 34,
   "id": "99c1b06d",
   "metadata": {},
   "outputs": [],
   "source": [
    "#Drop extreme rare terms\n",
    "df.drop(df[(df['term'] != \"60\") & (df['term'] != \"24\") & (df['term'] != \"59\")].index, inplace=True)"
   ]
  },
  {
   "cell_type": "code",
   "execution_count": 35,
   "id": "2a25b8b6",
   "metadata": {},
   "outputs": [
    {
     "data": {
      "text/plain": [
       "Sole Proprietorship                    236896\n",
       "Limited  Liability Company(LLC)        100264\n",
       "Corporation                             70022\n",
       "Independent Contractors                 62277\n",
       "Self-Employed Individuals               60678\n",
       "Subchapter S Corporation                27007\n",
       "Non-Profit Organization                  6210\n",
       "Single Member LLC                        5906\n",
       "Partnership                              2323\n",
       "Limited Liability Partnership            1596\n",
       "Professional Association                 1191\n",
       "Non Profit 501c3                          340\n",
       "Cooperative                               148\n",
       "Non Profit Membership 501c6               137\n",
       "Non-Profit Childcare Center               100\n",
       "Joint Venture                              91\n",
       "Qualified Joint-Venture (spouses)          50\n",
       "No                                         37\n",
       "Trust                                      30\n",
       "Employee Stock Ownership Plan(ESOP)        23\n",
       "Tenant in Common                           14\n",
       "Rollover as Business Start-Ups (ROB         2\n",
       "Non Profit Veterans 501c19                  1\n",
       "Housing Co-op                               1\n",
       "Name: business_type, dtype: int64"
      ]
     },
     "execution_count": 35,
     "metadata": {},
     "output_type": "execute_result"
    }
   ],
   "source": [
    "#Business type\n",
    "df.business_type.value_counts()"
   ]
  },
  {
   "cell_type": "code",
   "execution_count": 36,
   "id": "f986e90e",
   "metadata": {},
   "outputs": [],
   "source": [
    "#Drop extreme rare business type\n",
    "df.drop(df[(df['business_type'] == \"No\") | (df['business_type'] == \"Rollover as Business Start-Ups (ROB\")\n",
    "           | (df['business_type'] == \"Non Profit Veterans 501c19\") | (df['business_type'] == \"Housing Co-op\")\n",
    "          ].index, inplace=True)"
   ]
  },
  {
   "cell_type": "code",
   "execution_count": 37,
   "id": "65f431e9",
   "metadata": {},
   "outputs": [],
   "source": [
    "#Save cleaned data for predictive model use\n",
    "#df.to_csv(\"ppp_model2.csv\", index=False)"
   ]
  },
  {
   "cell_type": "markdown",
   "id": "c7de68c6",
   "metadata": {},
   "source": [
    "Predictive Model (Using R)"
   ]
  }
 ],
 "metadata": {
  "kernelspec": {
   "display_name": "Python 3",
   "language": "python",
   "name": "python3"
  },
  "language_info": {
   "codemirror_mode": {
    "name": "ipython",
    "version": 3
   },
   "file_extension": ".py",
   "mimetype": "text/x-python",
   "name": "python",
   "nbconvert_exporter": "python",
   "pygments_lexer": "ipython3",
   "version": "3.8.8"
  }
 },
 "nbformat": 4,
 "nbformat_minor": 5
}
